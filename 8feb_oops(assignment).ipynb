{
 "cells": [
  {
   "cell_type": "markdown",
   "id": "982808e6-2694-450b-bc5b-fcfbb2db9843",
   "metadata": {},
   "source": [
    "\n",
    "# Q1.What is Abstraction in OOps? Explain with an example.\n",
    "\n",
    "\n",
    "\n",
    "\n",
    "# Abstraction is one of the fundamental principles of Object-Oriented Programming (OOP). \n",
    "# It refers to the process of simplifying complex systems by breaking them into smaller,\n",
    "# more manageable parts, and focusing only on the relevant aspects while hiding the unnecessary details.\n",
    "# In OOP, abstraction is achieved through the use of abstract classes znd\n",
    "# interfaces.\n",
    "\n",
    "\n",
    "# Example: Shape Abstraction\n",
    "\n",
    "# Let's say we want to create a program to work with different geometric shapes, such as circles,\n",
    "\n",
    "# rectangles. To implement abstraction, we can create an abstract class called Shape. \n",
    "# This abstract class will define the common properties and methods that all shapes should have, \n",
    "# but it won't provide a concrete implementation for all of them. Instead, it leaves some of the details to be implemented by the\n",
    "# specific shape classes.\n",
    "\n",
    "\n",
    "\n"
   ]
  },
  {
   "cell_type": "code",
   "execution_count": null,
   "id": "e697be70-f06c-4754-8633-7e99544291f2",
   "metadata": {},
   "outputs": [],
   "source": []
  },
  {
   "cell_type": "code",
   "execution_count": 4,
   "id": "59b3c868-180f-4e97-a424-63d366affa03",
   "metadata": {},
   "outputs": [],
   "source": [
    "# abstact class\n",
    "import abc\n",
    "class shape:\n",
    "    @abc.abstractmethod\n",
    "    def area(self):\n",
    "        pass\n",
    "    @abc.abstractmethod\n",
    "    def perimeter(self):\n",
    "        pass"
   ]
  },
  {
   "cell_type": "code",
   "execution_count": 6,
   "id": "55668b67-cb39-4587-a7ff-fa6f2a482dfc",
   "metadata": {},
   "outputs": [],
   "source": [
    "# concrete circle class\n",
    "class circle(shape):\n",
    "    def __init__(self, radius):\n",
    "        self.radius=radius\n",
    "        \n",
    "    def area(self):\n",
    "        return 3.14 * self.radius * self.radius\n",
    "    \n",
    "    def perimeter(self):\n",
    "        return 2 * 3.14 * self.radius "
   ]
  },
  {
   "cell_type": "code",
   "execution_count": 12,
   "id": "4e4c6416-729b-4ab3-b53b-ba2c8afa6c1a",
   "metadata": {},
   "outputs": [],
   "source": [
    "# concrete rectangle class\n",
    "class rectangle(shape):\n",
    "    def __init__(self,length,width):\n",
    "        self.length=length\n",
    "        self.width=width\n",
    "        \n",
    "    def area(self):\n",
    "        return self.length * self.width \n",
    "    \n",
    "    def perimeter(self):\n",
    "        return 2 * self.length * self.width"
   ]
  },
  {
   "cell_type": "code",
   "execution_count": 13,
   "id": "a5c9f398-63bb-4f2e-9317-8f9915eef948",
   "metadata": {},
   "outputs": [],
   "source": [
    "obj_rectangle=rectangle(2,5)"
   ]
  },
  {
   "cell_type": "code",
   "execution_count": 15,
   "id": "a904b12d-7fe6-453f-b492-d00901843ca2",
   "metadata": {},
   "outputs": [
    {
     "data": {
      "text/plain": [
       "10"
      ]
     },
     "execution_count": 15,
     "metadata": {},
     "output_type": "execute_result"
    }
   ],
   "source": [
    "obj_rectangle.area()"
   ]
  },
  {
   "cell_type": "code",
   "execution_count": 17,
   "id": "12cedf60-0b8a-4fc1-9b15-98ae4a709a4b",
   "metadata": {},
   "outputs": [
    {
     "data": {
      "text/plain": [
       "20"
      ]
     },
     "execution_count": 17,
     "metadata": {},
     "output_type": "execute_result"
    }
   ],
   "source": [
    "obj_rectangle.perimeter()"
   ]
  },
  {
   "cell_type": "code",
   "execution_count": 18,
   "id": "0cbe69c9-c61e-4720-af19-f7d126b7041d",
   "metadata": {},
   "outputs": [],
   "source": [
    "\n",
    "\n",
    "obj_circle=circle(4)"
   ]
  },
  {
   "cell_type": "code",
   "execution_count": 19,
   "id": "297f33d6-c599-4df9-a8e9-5e3bbeafbf3b",
   "metadata": {},
   "outputs": [
    {
     "data": {
      "text/plain": [
       "50.24"
      ]
     },
     "execution_count": 19,
     "metadata": {},
     "output_type": "execute_result"
    }
   ],
   "source": [
    "obj_circle.area()"
   ]
  },
  {
   "cell_type": "code",
   "execution_count": 20,
   "id": "aaa550c9-f4a3-4209-852a-9ada3436569a",
   "metadata": {},
   "outputs": [
    {
     "data": {
      "text/plain": [
       "25.12"
      ]
     },
     "execution_count": 20,
     "metadata": {},
     "output_type": "execute_result"
    }
   ],
   "source": [
    "obj_circle.perimeter()"
   ]
  },
  {
   "cell_type": "code",
   "execution_count": 21,
   "id": "9d43ba73-61aa-4a01-81ac-c6730775337f",
   "metadata": {},
   "outputs": [],
   "source": []
  },
  {
   "cell_type": "markdown",
   "id": "6c34350f-b734-47b2-ba00-406b8a7e38c0",
   "metadata": {},
   "source": [
    " # question2..Differentiate between Abstraction and Encapsulation. Explain with an example."
   ]
  },
  {
   "cell_type": "code",
   "execution_count": null,
   "id": "782313cb-329f-48bf-80ef-acdb0673b585",
   "metadata": {},
   "outputs": [],
   "source": []
  },
  {
   "cell_type": "code",
   "execution_count": null,
   "id": "d3e16710-cc96-446f-b465-1449d24202b8",
   "metadata": {},
   "outputs": [],
   "source": [
    "Abstraction and encapsulation are two fundamental concepts in object-oriented programming (OOP), often used together to design and implement software systems. They serve different purposes and help improve the organization, maintainability, and flexibility of code. Let's differentiate between them and provide examples for each:\n",
    "\n",
    "Abstraction:\n",
    "\n",
    "Abstraction is the process of simplifying complex systems by modeling classes, objects, or data structures at a high level of \n",
    "detail while hiding the unnecessary or irrelevant implementation details.\n",
    "It focuses on what an object does rather than how it does it.\n",
    "Abstraction allows you to create a blueprint of an object or class that defines its essential characteristics and behaviors \n",
    "without specifying how those behaviors are implemented.\n",
    "\n",
    "\n",
    "\n",
    "Example:\n",
    "# Consider a car as an abstract concept. When thinking about a car, you don't need to know the intricate details of its engine, \n",
    "# transmission, or electrical systems to understand its primary purpose. Instead, you abstract the car as an object with properties\n",
    "# like \"color,\" \"make,\" \"model,\" and behaviors like \"start,\" \"stop,\" and \"accelerate.\"\n",
    "\n",
    "# In code, you can create an abstract class or interface called \"Vehicle\" with common properties and methods for all vehicles,\n",
    "# such as \"startEngine()\" and \"stopEngine().\" Concrete classes like \"Car\" and \"Motorcycle\" can then inherit from the \"Vehicle\" \n",
    "# abstract class, providing their specific implementations while adhering to the common abstraction.\n",
    "\n",
    "\n",
    "\n",
    "\n",
    "\n"
   ]
  },
  {
   "cell_type": "code",
   "execution_count": 2,
   "id": "029dc26e-c6e0-4adf-ad18-467cfff1f33f",
   "metadata": {},
   "outputs": [],
   "source": [
    "\n",
    "\n",
    "import abc\n",
    "class vehicle:\n",
    "    @abc.abstractmethod\n",
    "    def __init__(self, color, make, model):\n",
    "        self.color=color\n",
    "        self.make=make\n",
    "        self.model=model\n",
    "        \n",
    "    @abc.abstractmethod    \n",
    "    def start_engine(self):\n",
    "        pass              #abstarct class\n",
    "    \n",
    "    @abc.abstractmethod\n",
    "    def stop_engine(self):\n",
    "        pass              #abstarct class"
   ]
  },
  {
   "cell_type": "code",
   "execution_count": 3,
   "id": "16eb1ddf-08c8-487d-84e4-8e54c51bba0c",
   "metadata": {},
   "outputs": [],
   "source": [
    "# concrete class\n",
    "class car(vehicle):\n",
    "    def start_engine(self):\n",
    "        print (\"car engine has start\")\n",
    "        \n",
    "    def stop_engine(self):\n",
    "        print(\"car engine has stopped\")"
   ]
  },
  {
   "cell_type": "code",
   "execution_count": 4,
   "id": "20a6d35c-5bfc-49e5-8dd5-1eff6800739e",
   "metadata": {},
   "outputs": [],
   "source": [
    "class motorcycle(vehicle):\n",
    "    def start_engine(self):\n",
    "        print(\"the motorcycle has start\")\n",
    "        \n",
    "    def stop_engine(self):\n",
    "        print(\"the motorcycle has stopped\")\n",
    "        "
   ]
  },
  {
   "cell_type": "code",
   "execution_count": 5,
   "id": "93cf9ca3-1698-4d41-be45-9ce28775c2a1",
   "metadata": {},
   "outputs": [],
   "source": [
    "obj_car = car(\"red\",2022,\"audi\")\n",
    "obj_motorcycle=motorcycle(\"silver\", 2023, \"apachi\")"
   ]
  },
  {
   "cell_type": "code",
   "execution_count": 6,
   "id": "b846ca70-54a9-4a83-9299-786ac0c0c396",
   "metadata": {},
   "outputs": [
    {
     "name": "stdout",
     "output_type": "stream",
     "text": [
      "car engine has start\n"
     ]
    }
   ],
   "source": [
    "obj_car.start_engine()"
   ]
  },
  {
   "cell_type": "code",
   "execution_count": 7,
   "id": "b9e9cbb5-624a-4b1d-8fa8-cb4535d6412e",
   "metadata": {},
   "outputs": [
    {
     "name": "stdout",
     "output_type": "stream",
     "text": [
      "the motorcycle has stopped\n"
     ]
    }
   ],
   "source": [
    "obj_motorcycle.stop_engine()"
   ]
  },
  {
   "cell_type": "code",
   "execution_count": 15,
   "id": "415d8ca4-c363-465c-854c-de638a763201",
   "metadata": {},
   "outputs": [
    {
     "data": {
      "text/plain": [
       "'red'"
      ]
     },
     "execution_count": 15,
     "metadata": {},
     "output_type": "execute_result"
    }
   ],
   "source": [
    "obj_car.color"
   ]
  },
  {
   "cell_type": "code",
   "execution_count": 16,
   "id": "2c16ff28-704c-44f6-9c45-711ff691bc6b",
   "metadata": {},
   "outputs": [
    {
     "data": {
      "text/plain": [
       "2022"
      ]
     },
     "execution_count": 16,
     "metadata": {},
     "output_type": "execute_result"
    }
   ],
   "source": [
    "obj_car.make"
   ]
  },
  {
   "cell_type": "code",
   "execution_count": 17,
   "id": "196bb2f0-e67d-45a3-a13f-8bc725a5e082",
   "metadata": {},
   "outputs": [
    {
     "data": {
      "text/plain": [
       "'apachi'"
      ]
     },
     "execution_count": 17,
     "metadata": {},
     "output_type": "execute_result"
    }
   ],
   "source": [
    "obj_motorcycle.model"
   ]
  },
  {
   "cell_type": "code",
   "execution_count": null,
   "id": "cfdd14eb-bcef-408d-bf2c-699bf5a951ea",
   "metadata": {},
   "outputs": [],
   "source": []
  },
  {
   "cell_type": "markdown",
   "id": "fe28d08c-459d-4bdc-841e-cf383a0f09bd",
   "metadata": {},
   "source": [
    "# Encapsulation:\n",
    "\n",
    "# Encapsulation is the principle of bundling data (attributes or fields) and methods (functions or behaviors) that operate on that\n",
    "# data into a single unit, called a class.\n",
    "# It restricts direct access to an object's internal state and ensures that data can only be modified through well-defined methods\n",
    "# (getters and setters), which provides better control over data integrity and validation.\n",
    "# Encapsulation also helps in hiding the implementation details of a class and prevents unintended interference with an object's \n",
    "# internal state.\n",
    "\n",
    "\n",
    "# Example:\n",
    "# Let's say you're designing a \"Person\" class with attributes like \"name,\" \"age,\" and \"email.\" You encapsulate these attributes\n",
    "# by making them private (using access modifiers like private or protected), and you provide public methods .\n"
   ]
  },
  {
   "cell_type": "code",
   "execution_count": 9,
   "id": "9f2652a4-a0c2-4fc7-b496-5ee4bee09f75",
   "metadata": {},
   "outputs": [],
   "source": [
    "class person:\n",
    "    def __init__(self, name, age , email):\n",
    "        self.__name=name \n",
    "        self.__age= age\n",
    "        self.__email=email\n",
    "        \n",
    "#      getter method   \n",
    "        \n",
    "    def get_name(self):\n",
    "        return self.__name\n",
    "    \n",
    "    def get_age(self):\n",
    "        return self.__age\n",
    "    \n",
    "    def get_email(self):\n",
    "        return self.__email\n",
    "    \n",
    "#     setter method\n",
    "\n",
    "    def set_name(self,name):\n",
    "        self.__name=name\n",
    "        \n",
    "    def set_age(self,age):\n",
    "        if age>=0:\n",
    "            \n",
    "            self.__age=age\n",
    "            \n",
    "    def set_email(self,email):\n",
    "        self.__email= email\n",
    "        "
   ]
  },
  {
   "cell_type": "code",
   "execution_count": 10,
   "id": "7c016f6a-14fd-4514-bcda-0ea31dd4d462",
   "metadata": {},
   "outputs": [],
   "source": [
    "obj_person=person(\"vaibahv\",22,\"vaibhavkumar8979581578@gmail.com\")"
   ]
  },
  {
   "cell_type": "code",
   "execution_count": 11,
   "id": "2d7ce92f-2520-4dfa-ad53-7e292729f0bd",
   "metadata": {},
   "outputs": [
    {
     "data": {
      "text/plain": [
       "22"
      ]
     },
     "execution_count": 11,
     "metadata": {},
     "output_type": "execute_result"
    }
   ],
   "source": [
    "obj_person.get_age()"
   ]
  },
  {
   "cell_type": "code",
   "execution_count": 12,
   "id": "4318d755-06f0-4b4f-a199-e3f170d54164",
   "metadata": {},
   "outputs": [],
   "source": [
    "obj_person.set_age(25)"
   ]
  },
  {
   "cell_type": "code",
   "execution_count": 13,
   "id": "abdbbecf-7622-42f0-94b9-8cd6bb4bcfd9",
   "metadata": {},
   "outputs": [
    {
     "data": {
      "text/plain": [
       "25"
      ]
     },
     "execution_count": 13,
     "metadata": {},
     "output_type": "execute_result"
    }
   ],
   "source": [
    "obj_person.get_age()"
   ]
  },
  {
   "cell_type": "code",
   "execution_count": 14,
   "id": "c5e73f84-476d-4025-ac81-be3ef9dc9575",
   "metadata": {},
   "outputs": [],
   "source": [
    "obj_person.set_age(22+3)"
   ]
  },
  {
   "cell_type": "code",
   "execution_count": 15,
   "id": "bb99c657-21df-4a0c-8167-5bdadccb4cde",
   "metadata": {},
   "outputs": [
    {
     "data": {
      "text/plain": [
       "25"
      ]
     },
     "execution_count": 15,
     "metadata": {},
     "output_type": "execute_result"
    }
   ],
   "source": [
    "obj_person.get_age()"
   ]
  },
  {
   "cell_type": "code",
   "execution_count": null,
   "id": "d0d7b86f-c2b9-4e9b-98da-56a4c360fe2b",
   "metadata": {},
   "outputs": [],
   "source": []
  },
  {
   "cell_type": "markdown",
   "id": "2a5c9eb1-b74e-4b14-b076-ac9f7834c45b",
   "metadata": {},
   "source": [
    "\n",
    "\n",
    "# question 3. What is abc module in python? Why is it used"
   ]
  },
  {
   "cell_type": "markdown",
   "id": "b26eeaec-9f4a-43a1-9b39-4e3c6d67f829",
   "metadata": {},
   "source": [
    "\n",
    "\n",
    "\n",
    "\n",
    "# In Python, the abc module stands for \"Abstract Base Classes.\" It is a module that provides mechanisms for defining abstract base classes in Python. Abstract base classes are a way to define a common interface for a group of related classes, without necessarily providing concrete implementations for all the methods in those classes. They are used to enforce a certain structure or set of methods that subclasses must implement, ensuring a level of consistency and predictability in your code.\n",
    "\n",
    "# Here's how the abc module works and why it is used:\n",
    "\n",
    "# Defining Abstract Base Classes: You can create an abstract base class by subclassing abc.ABC or another abstract base class. \n",
    "# Abstract base classes often have abstract methods (methods without\n",
    "# implementations) that must be overridden by concrete subclasses.\n",
    "\n",
    "# Enforcing Method Implementation: When a class inherits from an abstract base class and doesn't implement all the abstract\n",
    "# methods defined in that base class, Python raises a TypeError at runtime. This ensures that all required methods are implemented \n",
    "# in concrete subclasses.\n",
    "\n",
    "# Providing a Common Interface: Abstract base classes provide a common interface for related classes. This can be especially useful \n",
    "# in cases where you have multiple classes that share some common behaviors but also have distinct implementations.\n",
    "\n",
    "# Documentation and Clarity: By defining an abstract base class, you make it clear to other developers what methods are expected \n",
    "# in subclasses. This can improve code documentation and readability.mm"
   ]
  },
  {
   "cell_type": "code",
   "execution_count": null,
   "id": "ae97d41d-6daf-4abf-81af-7ff45b4aa0b9",
   "metadata": {},
   "outputs": [],
   "source": []
  },
  {
   "cell_type": "markdown",
   "id": "97d447c4-0644-40d5-b2ad-e16148e31966",
   "metadata": {},
   "source": [
    "# Q4. How can we achieve data abstraction?\n"
   ]
  },
  {
   "cell_type": "markdown",
   "id": "ac64056d-64c5-4e9d-8661-73207efc8296",
   "metadata": {},
   "source": [
    "# Data abstraction is a fundamental concept in computer science and programming that allows you to hide complex implementation \n",
    "\n",
    "# details while exposing only the necessary information to the user. It helps in managing the complexity of software systems and\n",
    "# improving code maintainability. Here are some ways to achieve data abstraction:\n",
    "\n",
    "# Use of Classes and Objects (Object-Oriented Programming): Encapsulating data and behaviors within classes and providing a clear \n",
    "# interface to interact with objects is a common way to achieve data abstraction. Users of the class interact with the objects \n",
    "# through well-defined methods, hiding the internal data and implementation.\n",
    "\n",
    "# Access Control (Encapsulation): In object-oriented programming, you can use access control modifiers like private, protected, \n",
    "# and public to restrict direct access to certain data members or methods. This ensures that data is accessed and modified only \n",
    "# through predefined interfaces.\n",
    "\n",
    "# Abstract Classes and Interfaces: You can define abstract classes and interfaces in languages like Java and C#. Abstract classes provide a blueprint for other classes and can have abstract methods that must be implemented by derived classes. Interfaces define a contract that classes must adhere to by implementing specified methods.\n",
    "\n",
    "# Namespaces and Modules: In languages that support namespaces or modules, you can organize related data and functions into \n",
    "# separate namespaces or modules. This helps in grouping and abstracting data, reducing naming conflicts, and improving code \n",
    "# organization.\n",
    "\n",
    "# Information Hiding: This involves selectively exposing information to the outside world while hiding the internal details. \n",
    "# It's a principle of only providing what is necessary for external use and concealing the rest. This is closely related to\n",
    "# encapsulation.\n",
    "\n",
    "# Data Structures: Data structures like arrays, lists, and trees abstract the underlying storage and manipulation of data. Users \n",
    "# interact with these data structures through well-defined operations, without needing to know the low-level implementation.\n",
    "\n",
    "# Abstract Data Types (ADTs): ADTs are high-level descriptions of data structures that specify the behavior but not the\n",
    "# implementation. Examples include stacks, queues, and dictionaries. Users interact with ADTs through defined operations, abstracting the underlying data structure.\n",
    "\n",
    "# Function Abstraction: In functional programming, functions are treated as first-class citizens, and you can abstract data \n",
    "# transformations and operations through function composition. Higher-order functions, closures, and lambdas are tools for achieving this kind of abstraction.\n",
    "\n",
    "# APIs and Libraries: By providing well-documented APIs and libraries, developers can abstract complex functionality and data \n",
    "# processing. Users of these APIs interact with them based on the provided interface without needing to understand the internal \n",
    "# workings.\n",
    "\n",
    "# Database Abstraction Layers: When working with databases, you can use database abstraction layers or Object-Relational Mapping \n",
    "# (ORM) frameworks to abstract the underlying database management system. This allows developers to work with databases in a more \n",
    "# object-oriented or abstract way.\n",
    "\n",
    "# In summary, achieving data abstraction involves organizing and encapsulating data and behavior, providing clear interfaces,\n",
    "# and hiding unnecessary details. The specific techniques used can vary depending on the programming paradigm and language you\n",
    "# are working with, but the core principle is to simplify interaction with complex systems by exposing only what is necessary.\n",
    "\n",
    "\n",
    "\n",
    "\n"
   ]
  },
  {
   "cell_type": "markdown",
   "id": "ede60e58-3c1a-421b-9520-c0a92304e5bd",
   "metadata": {},
   "source": [
    "\n",
    "\n",
    "# Q4. Can we create an instance of an abstract class? Explain your answer.\n",
    "\n"
   ]
  },
  {
   "cell_type": "markdown",
   "id": "3260913d-82c5-4fca-9842-c9ee5c79953b",
   "metadata": {},
   "source": [
    "# No, you cannot create an instance of an abstract class in Python. Abstract classes in Python are meant to be used as base classes\n",
    "# for other classes, and they cannot be instantiated on their own. Abstract classes are designed to provide a common interface and \n",
    "# set of methods that must be implemented by their subclasses.\n",
    "\n",
    "# In Python, abstract classes are created using the ABC (Abstract Base Class) module and the @abstractmethod decorator. \n",
    "# The ABC module allows you to define abstract methods, which are methods without an implementation in the abstract class. \n",
    "# Subclasses are then required to provide an implementation for these abstract methods"
   ]
  },
  {
   "cell_type": "code",
   "execution_count": null,
   "id": "7037c811-7432-402e-a7ac-cb71e78ae400",
   "metadata": {},
   "outputs": [],
   "source": [
    "from abc import ABC, abstractmethod\n",
    "\n",
    "class Shape(ABC):\n",
    "    @abstractmethod\n",
    "    def area(self):\n",
    "        pass\n",
    "\n",
    "class Square(Shape):\n",
    "    def __init__(self, side):\n",
    "        self.side = side\n",
    "\n",
    "    def area(self):\n",
    "        return self.side * self.side\n",
    "\n",
    "# Attempting to create an instance of the abstract class will result in an error\n",
    "# shape = Shape()  # This line would raise a TypeError\n"
   ]
  }
 ],
 "metadata": {
  "kernelspec": {
   "display_name": "Python 3 (ipykernel)",
   "language": "python",
   "name": "python3"
  },
  "language_info": {
   "codemirror_mode": {
    "name": "ipython",
    "version": 3
   },
   "file_extension": ".py",
   "mimetype": "text/x-python",
   "name": "python",
   "nbconvert_exporter": "python",
   "pygments_lexer": "ipython3",
   "version": "3.10.6"
  }
 },
 "nbformat": 4,
 "nbformat_minor": 5
}
